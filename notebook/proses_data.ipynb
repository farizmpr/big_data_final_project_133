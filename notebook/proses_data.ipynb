{
 "cells": [
  {
   "cell_type": "code",
   "execution_count": 1,
   "metadata": {},
   "outputs": [],
   "source": [
    "import findspark\n",
    "findspark.init()\n",
    "\n",
    "from pyspark.sql import SparkSession\n",
    "spark = SparkSession \\\n",
    "    .builder \\\n",
    "    .appName(\"Python Spark SQL basic\") \\\n",
    "    .getOrCreate()"
   ]
  },
  {
   "cell_type": "code",
   "execution_count": 2,
   "metadata": {},
   "outputs": [
    {
     "name": "stdout",
     "output_type": "stream",
     "text": [
      "+--------------+---------+------+----------+\n",
      "|        UserId|ProductId|Rating| Timestamp|\n",
      "+--------------+---------+------+----------+\n",
      "|A28ILV4TOG8BH2|130350591|     5|1300752000|\n",
      "|A31B4D7URW4DNZ|307394530|     2|1214784000|\n",
      "|A2HU0RPDRZZOP1|307394530|     5|1277337600|\n",
      "| A7J0XOW7DYBBD|307394530|     5|1393113600|\n",
      "| A9QY9F2Y7KDFW|307394530|     5|1218499200|\n",
      "|A2MGJ4CELCSG10|307394530|     5|1234137600|\n",
      "|A1S0DWONNWB8NH|307394530|     5|1266278400|\n",
      "|A1FUE4TEATOQVV|307394530|     3|1220659200|\n",
      "|A399RHVLQVXMA1|307394530|     5|1312675200|\n",
      "|A1S0WZTK4QTY6O|307394530|     4|1306195200|\n",
      "|A3RTX03KHAQ8LP|307394530|     5|1233792000|\n",
      "|A1WXIQ3NYLMC8C|307394530|     5|1391385600|\n",
      "|A2UCOPAEMGV3YP|307394530|     3|1225152000|\n",
      "|A1TDYA2ZBU11NG|307394530|     5|1203206400|\n",
      "|A2SMPLW2BFKSHJ|307394530|     4|1210550400|\n",
      "|A13YEQYHZ93RB9|307394530|     5|1395878400|\n",
      "|A109L3WXD1SJFU|307394530|     4|1200787200|\n",
      "|A2X7EHMFQ9FLXK|307394530|     5|1224806400|\n",
      "| AU86XQ8V39W80|307394530|     5|1216944000|\n",
      "|A1OJX5PFD3H3Z4|307394530|     5|1287792000|\n",
      "+--------------+---------+------+----------+\n",
      "only showing top 20 rows\n",
      "\n"
     ]
    }
   ],
   "source": [
    "ratings = spark.read.csv(\"ratings_Home_and_Kitchen.csv\", header=True, inferSchema=True)\n",
    "ratings.show()"
   ]
  },
  {
   "cell_type": "code",
   "execution_count": 3,
   "metadata": {},
   "outputs": [],
   "source": [
    "ratings.createOrReplaceTempView(\"HomeAndKitchen\")"
   ]
  },
  {
   "cell_type": "code",
   "execution_count": 4,
   "metadata": {},
   "outputs": [
    {
     "name": "stdout",
     "output_type": "stream",
     "text": [
      "+--------------+\n",
      "|        UserId|\n",
      "+--------------+\n",
      "|A1SW2D234X11MS|\n",
      "|A3R9X003XW0LNR|\n",
      "|A2L52PXOP1H3PG|\n",
      "|A2WYUH3JEU1I2K|\n",
      "|A1S3LD7TJUPAKA|\n",
      "| A28NC9XJ5NS4Z|\n",
      "|A3FNVLMOQZPIUI|\n",
      "|A2LMHXV9P04WKR|\n",
      "|A1UAFF7K6DOC7S|\n",
      "|A3NQ692MZIY37J|\n",
      "| AVWYFE169YDNS|\n",
      "|A20RNI00FS9FUP|\n",
      "|A3W15RCCHJP498|\n",
      "|A1QGTR9ZT689Z5|\n",
      "|A3OBP6RPU4WRBW|\n",
      "|A1NXRF3I791HRI|\n",
      "|A3R54K3E1RL2A8|\n",
      "|A3JWKAL55OTF2I|\n",
      "|A201LD5SZVQDGJ|\n",
      "|A1MSX18RAO7190|\n",
      "+--------------+\n",
      "only showing top 20 rows\n",
      "\n"
     ]
    }
   ],
   "source": [
    "new_id = spark.sql(\"SELECT DISTINCT UserId FROM HomeAndKitchen\")\n",
    "new_id.show()"
   ]
  },
  {
   "cell_type": "code",
   "execution_count": 5,
   "metadata": {},
   "outputs": [],
   "source": [
    "new_id.createOrReplaceTempView(\"newId\")"
   ]
  },
  {
   "cell_type": "code",
   "execution_count": 6,
   "metadata": {},
   "outputs": [
    {
     "name": "stdout",
     "output_type": "stream",
     "text": [
      "+--------------------+-------+\n",
      "|              UserId|user_id|\n",
      "+--------------------+-------+\n",
      "|A0002382258OFJJ2U...|      1|\n",
      "|A00030901VWJV5GJH...|      2|\n",
      "|A00046902LP5YSDV0...|      3|\n",
      "|A0010876CNE3ILIM9HV0|      4|\n",
      "|A0011268Y3XKCQUGXM6K|      5|\n",
      "|A0013712NB9QP8IWU5WK|      6|\n",
      "|A001453031D3PK5XA...|      7|\n",
      "|A00191762N44UPTT5...|      8|\n",
      "|A002148622J157EA6...|      9|\n",
      "|A002258237PFYJV33...|     10|\n",
      "|A002469621K3HG6L4...|     11|\n",
      "|A00295401U6S2UG3R...|     12|\n",
      "|A00338282E99B8OR2...|     13|\n",
      "|A00432223T108LIJ7...|     14|\n",
      "|A004458616TPDS617...|     15|\n",
      "|A00466702B629J2FU...|     16|\n",
      "|A00469483BHO369ZY...|     17|\n",
      "|A00471663283F48W8...|     18|\n",
      "|A0047322388NOTO4N...|     19|\n",
      "|A00473363TJ8YSZ3Y...|     20|\n",
      "+--------------------+-------+\n",
      "only showing top 20 rows\n",
      "\n"
     ]
    }
   ],
   "source": [
    "new_user_id = spark.sql(\"SELECT UserId, ROW_NUMBER() OVER (ORDER BY UserId) AS user_id FROM newId\")\n",
    "new_user_id.show()"
   ]
  },
  {
   "cell_type": "code",
   "execution_count": 7,
   "metadata": {},
   "outputs": [
    {
     "name": "stdout",
     "output_type": "stream",
     "text": [
      "+--------------+----------+------+----------+--------------+-------+\n",
      "|        UserId| ProductId|Rating| Timestamp|        UserId|user_id|\n",
      "+--------------+----------+------+----------+--------------+-------+\n",
      "|A100QXF0E860E9|B00009R66F|     5|1296691200|A100QXF0E860E9|    515|\n",
      "|A101CZ45F288CC|B00008CM68|     5|1362960000|A101CZ45F288CC|    640|\n",
      "|A10560BG3EV0K1|B000139H82|     5|1375833600|A10560BG3EV0K1|   1290|\n",
      "|A105J4AR8FSY8D|B0006TJ402|     5|1263772800|A105J4AR8FSY8D|   1354|\n",
      "|A108LBZ2CCISQA|B00009R66F|     5|1331337600|A108LBZ2CCISQA|   1874|\n",
      "|A10CSSWRRROM4C|B0009ETS0A|     5|1387238400|A10CSSWRRROM4C|   2587|\n",
      "|A10D9JWBPF9X6X|B0009KMYDM|     4|1383436800|A10D9JWBPF9X6X|   2663|\n",
      "|A10E1H27GLD0MJ|B0000VZ57C|     5|1387152000|A10E1H27GLD0MJ|   2791|\n",
      "|A10E1H27GLD0MJ|B000CSCFFI|     5|1162771200|A10E1H27GLD0MJ|   2791|\n",
      "|A10ENZPGPNA5RM|B000ESJGZS|     5|1285200000|A10ENZPGPNA5RM|   2893|\n",
      "|A10G15ANY7CPEE|B0007YDVA0|     3|1388966400|A10G15ANY7CPEE|   3106|\n",
      "|A10G8SFYA8GSZG|B0000W4MYI|     4|1380672000|A10G8SFYA8GSZG|   3142|\n",
      "|A10KHX41ONY4U1|B00070OWMU|     4|1389052800|A10KHX41ONY4U1|   3857|\n",
      "|A10L6AY30VXE2L|B00008CM6A|     4|1194998400|A10L6AY30VXE2L|   3969|\n",
      "|A10L6AY30VXE2L|B0007XXS7W|     3|1137283200|A10L6AY30VXE2L|   3969|\n",
      "|A10LVCKQUDVQB0|B000FAR33M|     5|1362960000|A10LVCKQUDVQB0|   4067|\n",
      "|A10MASTVA88A9C|B0002YSLF0|     1|1234051200|A10MASTVA88A9C|   4128|\n",
      "|A10NJIHHXQYTWP|B0000VLXYG|     5|1360022400|A10NJIHHXQYTWP|   4328|\n",
      "|A10Q1QIHVXKT8M|B00006IV0Q|     3|1370563200|A10Q1QIHVXKT8M|   4736|\n",
      "|A10R80Q3DOAHS7|B0000W4N06|     1|1307750400|A10R80Q3DOAHS7|   4912|\n",
      "+--------------+----------+------+----------+--------------+-------+\n",
      "only showing top 20 rows\n",
      "\n"
     ]
    }
   ],
   "source": [
    "ratings = ratings.join(new_user_id, ratings.UserId == new_user_id.UserId)\n",
    "ratings.show()"
   ]
  },
  {
   "cell_type": "code",
   "execution_count": 8,
   "metadata": {},
   "outputs": [],
   "source": [
    "ratings.createOrReplaceTempView(\"ratings\")"
   ]
  },
  {
   "cell_type": "code",
   "execution_count": 9,
   "metadata": {},
   "outputs": [
    {
     "name": "stdout",
     "output_type": "stream",
     "text": [
      "+----------+\n",
      "| ProductId|\n",
      "+----------+\n",
      "|B000HBMFRS|\n",
      "|B00061J2B6|\n",
      "|B000EEMHT4|\n",
      "|B00024WN36|\n",
      "|B00005IX9T|\n",
      "|B0000665TD|\n",
      "|B0007MHCWU|\n",
      "|B00062WTS8|\n",
      "|B00004SPCT|\n",
      "|B000095ZGF|\n",
      "|B000I0WQWC|\n",
      "|B00004XSC8|\n",
      "|B0009XOTYQ|\n",
      "|B000069BF9|\n",
      "|B0000WM2J0|\n",
      "|B000FG0ONC|\n",
      "|B000DZD1AS|\n",
      "|B0000DK2Y3|\n",
      "|B00065EQJU|\n",
      "|B0006G0KR6|\n",
      "+----------+\n",
      "only showing top 20 rows\n",
      "\n"
     ]
    }
   ],
   "source": [
    "new_id2 = spark.sql(\"SELECT DISTINCT ProductId FROM ratings\")\n",
    "new_id2.show()"
   ]
  },
  {
   "cell_type": "code",
   "execution_count": 10,
   "metadata": {},
   "outputs": [],
   "source": [
    "new_id2.createOrReplaceTempView(\"newId2\")"
   ]
  },
  {
   "cell_type": "code",
   "execution_count": 11,
   "metadata": {},
   "outputs": [
    {
     "name": "stdout",
     "output_type": "stream",
     "text": [
      "+----------+----------+\n",
      "| ProductId|product_id|\n",
      "+----------+----------+\n",
      "|061533301X|         1|\n",
      "|064178614X|         2|\n",
      "|064180556X|         3|\n",
      "|095650843X|         4|\n",
      "|097736271X|         5|\n",
      "|097857141X|         6|\n",
      "|1009245414|         7|\n",
      "|1059875837|         8|\n",
      "|1223069818|         9|\n",
      "|1223070743|        10|\n",
      "|1223071359|        11|\n",
      "| 130350591|        12|\n",
      "|1403783624|        13|\n",
      "|1412758181|        14|\n",
      "|1438802552|        15|\n",
      "|1438823029|        16|\n",
      "|1439347069|        17|\n",
      "|1450823661|        18|\n",
      "|1450838049|        19|\n",
      "|145085866X|        20|\n",
      "+----------+----------+\n",
      "only showing top 20 rows\n",
      "\n"
     ]
    }
   ],
   "source": [
    "new_product_id = spark.sql(\"SELECT ProductId, ROW_NUMBER() OVER (ORDER BY ProductId) AS product_id FROM newId2\")\n",
    "new_product_id.show()"
   ]
  },
  {
   "cell_type": "code",
   "execution_count": 12,
   "metadata": {},
   "outputs": [
    {
     "name": "stdout",
     "output_type": "stream",
     "text": [
      "+--------------+----------+------+----------+--------------+-------+----------+----------+\n",
      "|        UserId| ProductId|Rating| Timestamp|        UserId|user_id| ProductId|product_id|\n",
      "+--------------+----------+------+----------+--------------+-------+----------+----------+\n",
      "| APQIDBZI0URIK|9177124405|     5|1382400000| APQIDBZI0URIK| 732576|9177124405|       292|\n",
      "|A1HC4O36V1RLHN|9177124405|     5|1362268800|A1HC4O36V1RLHN| 101337|9177124405|       292|\n",
      "|A1SX8OFBOZHQRO|9177124405|     3|1361491200|A1SX8OFBOZHQRO| 168661|9177124405|       292|\n",
      "|A2X7GUGCAU2OFV|9177124405|     2|1399075200|A2X7GUGCAU2OFV| 402320|9177124405|       292|\n",
      "|A3B51VYSNNG5VB|9177124405|     4|1385337600|A3B51VYSNNG5VB| 483209|9177124405|       292|\n",
      "|A1JTXIGFXKV8AZ|9177124405|     5|1397433600|A1JTXIGFXKV8AZ| 115852|9177124405|       292|\n",
      "| ALZZ29FFELMUB|9177124405|     3|1389916800| ALZZ29FFELMUB| 710891|9177124405|       292|\n",
      "|A1FFBTI5F464OL|9177124405|     5|1381795200|A1FFBTI5F464OL|  90260|9177124405|       292|\n",
      "|A32WDGMMOQS922|9177124405|     2|1388448000|A32WDGMMOQS922| 435484|9177124405|       292|\n",
      "| AY7A3H9NX9Z19|9177124405|     5|1377475200| AY7A3H9NX9Z19| 782475|9177124405|       292|\n",
      "|A20ODPSTLFOI31|9177124405|     3|1390435200|A20ODPSTLFOI31| 213705|9177124405|       292|\n",
      "|A2ZJQNJ27WMGEI|9177124405|     5|1394496000|A2ZJQNJ27WMGEI| 415892|9177124405|       292|\n",
      "|A3II0RQEHWWI8Q|9177124405|     5|1360368000|A3II0RQEHWWI8Q| 525927|9177124405|       292|\n",
      "|A15G2DK60FY1V1|9177124405|     2|1401753600|A15G2DK60FY1V1|  32216|9177124405|       292|\n",
      "|A35TBQ2YQ7Q5PF|9177124405|     5|1395100800|A35TBQ2YQ7Q5PF| 452309|9177124405|       292|\n",
      "| AAST9CVNHC9DO|9177124405|     3|1396137600| AAST9CVNHC9DO| 645584|9177124405|       292|\n",
      "|A1SQDF88937O2K|9177124405|     1|1374019200|A1SQDF88937O2K| 167577|9177124405|       292|\n",
      "| AJ6G2SPCP6PUJ|9177124405|     2|1365033600| AJ6G2SPCP6PUJ| 694404|9177124405|       292|\n",
      "|A1P5T9IFN9QWK5|9177124405|     1|1353715200|A1P5T9IFN9QWK5| 146875|9177124405|       292|\n",
      "|A3QB0DG0MCUPND|9177124405|     1|1398816000|A3QB0DG0MCUPND| 571405|9177124405|       292|\n",
      "+--------------+----------+------+----------+--------------+-------+----------+----------+\n",
      "only showing top 20 rows\n",
      "\n"
     ]
    }
   ],
   "source": [
    "ratings = ratings.join(new_product_id, ratings.ProductId == new_product_id.ProductId)\n",
    "ratings.show()"
   ]
  },
  {
   "cell_type": "code",
   "execution_count": 13,
   "metadata": {},
   "outputs": [],
   "source": [
    "ratings = ratings.select('user_id', 'product_id', 'Rating')"
   ]
  },
  {
   "cell_type": "code",
   "execution_count": 14,
   "metadata": {},
   "outputs": [],
   "source": [
    "ratings = ratings.withColumnRenamed('user_id', 'UserId')\n",
    "ratings = ratings.withColumnRenamed('product_id', 'ProductId')"
   ]
  },
  {
   "cell_type": "code",
   "execution_count": 15,
   "metadata": {},
   "outputs": [
    {
     "name": "stdout",
     "output_type": "stream",
     "text": [
      "+------+---------+------+\n",
      "|UserId|ProductId|Rating|\n",
      "+------+---------+------+\n",
      "|732576|      292|     5|\n",
      "|101337|      292|     5|\n",
      "|168661|      292|     3|\n",
      "|402320|      292|     2|\n",
      "|483209|      292|     4|\n",
      "|115852|      292|     5|\n",
      "|710891|      292|     3|\n",
      "| 90260|      292|     5|\n",
      "|435484|      292|     2|\n",
      "|782475|      292|     5|\n",
      "|213705|      292|     3|\n",
      "|415892|      292|     5|\n",
      "|525927|      292|     5|\n",
      "| 32216|      292|     2|\n",
      "|452309|      292|     5|\n",
      "|645584|      292|     3|\n",
      "|167577|      292|     1|\n",
      "|694404|      292|     2|\n",
      "|146875|      292|     1|\n",
      "|571405|      292|     1|\n",
      "+------+---------+------+\n",
      "only showing top 20 rows\n",
      "\n"
     ]
    }
   ],
   "source": [
    "ratings.show()"
   ]
  },
  {
   "cell_type": "code",
   "execution_count": 16,
   "metadata": {},
   "outputs": [],
   "source": [
    "query1 = ratings.select('UserId', 'ProductId', 'Rating')"
   ]
  },
  {
   "cell_type": "code",
   "execution_count": 17,
   "metadata": {},
   "outputs": [
    {
     "name": "stdout",
     "output_type": "stream",
     "text": [
      "+------+---------+------+\n",
      "|UserId|ProductId|Rating|\n",
      "+------+---------+------+\n",
      "|732576|      292|     5|\n",
      "|101337|      292|     5|\n",
      "|168661|      292|     3|\n",
      "|402320|      292|     2|\n",
      "|483209|      292|     4|\n",
      "|115852|      292|     5|\n",
      "|710891|      292|     3|\n",
      "| 90260|      292|     5|\n",
      "|435484|      292|     2|\n",
      "|782475|      292|     5|\n",
      "|213705|      292|     3|\n",
      "|415892|      292|     5|\n",
      "|525927|      292|     5|\n",
      "| 32216|      292|     2|\n",
      "|452309|      292|     5|\n",
      "|645584|      292|     3|\n",
      "|167577|      292|     1|\n",
      "|694404|      292|     2|\n",
      "|146875|      292|     1|\n",
      "|571405|      292|     1|\n",
      "+------+---------+------+\n",
      "only showing top 20 rows\n",
      "\n"
     ]
    }
   ],
   "source": [
    "query1.show()"
   ]
  },
  {
   "cell_type": "code",
   "execution_count": 18,
   "metadata": {},
   "outputs": [],
   "source": [
    "# Convert to Pandas\n",
    "import pandas as pd\n",
    "query1Pandas = query1.toPandas()"
   ]
  },
  {
   "cell_type": "code",
   "execution_count": 22,
   "metadata": {},
   "outputs": [
    {
     "name": "stdout",
     "output_type": "stream",
     "text": [
      "<class 'pandas.core.frame.DataFrame'>\n",
      "RangeIndex: 1048575 entries, 0 to 1048574\n",
      "Data columns (total 3 columns):\n",
      "UserId       1048575 non-null int32\n",
      "ProductId    1048575 non-null int32\n",
      "Rating       1048575 non-null int32\n",
      "dtypes: int32(3)\n",
      "memory usage: 12.0 MB\n"
     ]
    }
   ],
   "source": [
    "query1Pandas.info()"
   ]
  },
  {
   "cell_type": "code",
   "execution_count": 19,
   "metadata": {},
   "outputs": [],
   "source": [
    "# Save to single CSV\n",
    "query1Pandas.to_csv(\"/home/fariz/Documents/big data/final/HomeAndKitchen_ratings.csv\", index=False)"
   ]
  },
  {
   "cell_type": "code",
   "execution_count": null,
   "metadata": {},
   "outputs": [],
   "source": []
  }
 ],
 "metadata": {
  "kernelspec": {
   "display_name": "Python 2",
   "language": "python",
   "name": "python2"
  },
  "language_info": {
   "codemirror_mode": {
    "name": "ipython",
    "version": 2
   },
   "file_extension": ".py",
   "mimetype": "text/x-python",
   "name": "python",
   "nbconvert_exporter": "python",
   "pygments_lexer": "ipython2",
   "version": "2.7.15"
  }
 },
 "nbformat": 4,
 "nbformat_minor": 2
}
